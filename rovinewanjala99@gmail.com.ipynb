{
 "cells": [
  {
   "cell_type": "code",
   "execution_count": 2,
   "metadata": {},
   "outputs": [],
   "source": [
    "import pandas as pd\n",
    "import numpy as np\n",
    "import warnings\n",
    "warnings.simplefilter(action='ignore', category=FutureWarning)"
   ]
  },
  {
   "cell_type": "code",
   "execution_count": 3,
   "metadata": {},
   "outputs": [],
   "source": [
    "### Load the datasets\n",
    "df_source1 = pd.read_csv('source_1.csv')\n",
    "df_source2 = pd.read_csv('source_2.csv')\n",
    "df_matched_data = pd.read_csv('matched_data.csv')\n",
    "df_predicted_matches = pd.read_csv('predicted_matches.csv')"
   ]
  },
  {
   "cell_type": "code",
   "execution_count": 4,
   "metadata": {},
   "outputs": [
    {
     "name": "stdout",
     "output_type": "stream",
     "text": [
      "(13238, 2)\n",
      "(48943, 2)\n"
     ]
    }
   ],
   "source": [
    "### Check the shape of the datasets\n",
    "print(df_source1.shape)\n",
    "print(df_source2.shape)"
   ]
  },
  {
   "cell_type": "code",
   "execution_count": 5,
   "metadata": {},
   "outputs": [
    {
     "name": "stdout",
     "output_type": "stream",
     "text": [
      "id       int64\n",
      "name    object\n",
      "dtype: object\n",
      "id       int64\n",
      "name    object\n",
      "dtype: object\n"
     ]
    }
   ],
   "source": [
    "### Check the datatype of the datasets\n",
    "print(df_source1.dtypes)\n",
    "print(df_source2.dtypes)"
   ]
  },
  {
   "cell_type": "code",
   "execution_count": 6,
   "metadata": {},
   "outputs": [
    {
     "name": "stdout",
     "output_type": "stream",
     "text": [
      "Index(['id', 'name'], dtype='object')\n",
      "Index(['id', 'name'], dtype='object')\n"
     ]
    }
   ],
   "source": [
    "### Check columns names\n",
    "print(df_source1.columns)\n",
    "print(df_source2.columns)"
   ]
  },
  {
   "cell_type": "code",
   "execution_count": 7,
   "metadata": {},
   "outputs": [
    {
     "name": "stdout",
     "output_type": "stream",
     "text": [
      "RangeIndex(start=0, stop=13238, step=1)\n",
      "RangeIndex(start=0, stop=48943, step=1)\n"
     ]
    }
   ],
   "source": [
    "### Check rows of the dataset\n",
    "print(df_source1.index)\n",
    "print(df_source2.index)"
   ]
  },
  {
   "cell_type": "code",
   "execution_count": 8,
   "metadata": {},
   "outputs": [],
   "source": [
    "### Set to display all columns and rows\n",
    "pd.set_option('display.max_columns', None)\n",
    "pd.set_option('display.max_rows', None)"
   ]
  },
  {
   "cell_type": "code",
   "execution_count": 9,
   "metadata": {},
   "outputs": [
    {
     "data": {
      "text/html": [
       "<div>\n",
       "<style scoped>\n",
       "    .dataframe tbody tr th:only-of-type {\n",
       "        vertical-align: middle;\n",
       "    }\n",
       "\n",
       "    .dataframe tbody tr th {\n",
       "        vertical-align: top;\n",
       "    }\n",
       "\n",
       "    .dataframe thead th {\n",
       "        text-align: right;\n",
       "    }\n",
       "</style>\n",
       "<table border=\"1\" class=\"dataframe\">\n",
       "  <thead>\n",
       "    <tr style=\"text-align: right;\">\n",
       "      <th></th>\n",
       "      <th>id</th>\n",
       "      <th>name</th>\n",
       "    </tr>\n",
       "  </thead>\n",
       "  <tbody>\n",
       "    <tr>\n",
       "      <th>0</th>\n",
       "      <td>0</td>\n",
       "      <td>Horses, asses, mules and hinnies; live, pure-b...</td>\n",
       "    </tr>\n",
       "    <tr>\n",
       "      <th>1</th>\n",
       "      <td>1</td>\n",
       "      <td>Horses; live, pure-bred breeding animals</td>\n",
       "    </tr>\n",
       "    <tr>\n",
       "      <th>2</th>\n",
       "      <td>2</td>\n",
       "      <td>Horses; live, other than pure-bred breeding an...</td>\n",
       "    </tr>\n",
       "    <tr>\n",
       "      <th>3</th>\n",
       "      <td>4</td>\n",
       "      <td>Horses, asses, mules and hinnies; live, other ...</td>\n",
       "    </tr>\n",
       "    <tr>\n",
       "      <th>4</th>\n",
       "      <td>5</td>\n",
       "      <td>Bovine animals; live, pure-bred breeding animals</td>\n",
       "    </tr>\n",
       "    <tr>\n",
       "      <th>5</th>\n",
       "      <td>6</td>\n",
       "      <td>Cattle; live, pure-bred breeding animals</td>\n",
       "    </tr>\n",
       "    <tr>\n",
       "      <th>6</th>\n",
       "      <td>7</td>\n",
       "      <td>Cattle; live, other than pure-bred breeding an...</td>\n",
       "    </tr>\n",
       "    <tr>\n",
       "      <th>7</th>\n",
       "      <td>8</td>\n",
       "      <td>Buffalo; live, pure-bred breeding animals</td>\n",
       "    </tr>\n",
       "    <tr>\n",
       "      <th>8</th>\n",
       "      <td>9</td>\n",
       "      <td>Buffalo; live, other than pure-bred breeding a...</td>\n",
       "    </tr>\n",
       "    <tr>\n",
       "      <th>9</th>\n",
       "      <td>10</td>\n",
       "      <td>Bovine animals; live, other than pure-bred bre...</td>\n",
       "    </tr>\n",
       "  </tbody>\n",
       "</table>\n",
       "</div>"
      ],
      "text/plain": [
       "   id                                               name\n",
       "0   0  Horses, asses, mules and hinnies; live, pure-b...\n",
       "1   1           Horses; live, pure-bred breeding animals\n",
       "2   2  Horses; live, other than pure-bred breeding an...\n",
       "3   4  Horses, asses, mules and hinnies; live, other ...\n",
       "4   5   Bovine animals; live, pure-bred breeding animals\n",
       "5   6           Cattle; live, pure-bred breeding animals\n",
       "6   7  Cattle; live, other than pure-bred breeding an...\n",
       "7   8          Buffalo; live, pure-bred breeding animals\n",
       "8   9  Buffalo; live, other than pure-bred breeding a...\n",
       "9  10  Bovine animals; live, other than pure-bred bre..."
      ]
     },
     "execution_count": 9,
     "metadata": {},
     "output_type": "execute_result"
    }
   ],
   "source": [
    "### Display the datasets\n",
    "df_source1.head(10)"
   ]
  },
  {
   "cell_type": "code",
   "execution_count": 10,
   "metadata": {},
   "outputs": [
    {
     "data": {
      "text/html": [
       "<div>\n",
       "<style scoped>\n",
       "    .dataframe tbody tr th:only-of-type {\n",
       "        vertical-align: middle;\n",
       "    }\n",
       "\n",
       "    .dataframe tbody tr th {\n",
       "        vertical-align: top;\n",
       "    }\n",
       "\n",
       "    .dataframe thead th {\n",
       "        text-align: right;\n",
       "    }\n",
       "</style>\n",
       "<table border=\"1\" class=\"dataframe\">\n",
       "  <thead>\n",
       "    <tr style=\"text-align: right;\">\n",
       "      <th></th>\n",
       "      <th>id</th>\n",
       "      <th>name</th>\n",
       "    </tr>\n",
       "  </thead>\n",
       "  <tbody>\n",
       "    <tr>\n",
       "      <th>0</th>\n",
       "      <td>0</td>\n",
       "      <td>leveillula lactucae-serriolae</td>\n",
       "    </tr>\n",
       "    <tr>\n",
       "      <th>1</th>\n",
       "      <td>1</td>\n",
       "      <td>podosphaera aphanis</td>\n",
       "    </tr>\n",
       "    <tr>\n",
       "      <th>2</th>\n",
       "      <td>2</td>\n",
       "      <td>lathyrus czeczottianus</td>\n",
       "    </tr>\n",
       "    <tr>\n",
       "      <th>3</th>\n",
       "      <td>3</td>\n",
       "      <td>crocus biflorus subsp. caricus</td>\n",
       "    </tr>\n",
       "    <tr>\n",
       "      <th>4</th>\n",
       "      <td>4</td>\n",
       "      <td>hordeum brevisubulatum</td>\n",
       "    </tr>\n",
       "    <tr>\n",
       "      <th>5</th>\n",
       "      <td>5</td>\n",
       "      <td>vinca major subsp. major</td>\n",
       "    </tr>\n",
       "    <tr>\n",
       "      <th>6</th>\n",
       "      <td>6</td>\n",
       "      <td>geranium psilostemon</td>\n",
       "    </tr>\n",
       "    <tr>\n",
       "      <th>7</th>\n",
       "      <td>7</td>\n",
       "      <td>cantharellaceae</td>\n",
       "    </tr>\n",
       "    <tr>\n",
       "      <th>8</th>\n",
       "      <td>8</td>\n",
       "      <td>liatris spicata</td>\n",
       "    </tr>\n",
       "    <tr>\n",
       "      <th>9</th>\n",
       "      <td>9</td>\n",
       "      <td>potato pulp</td>\n",
       "    </tr>\n",
       "  </tbody>\n",
       "</table>\n",
       "</div>"
      ],
      "text/plain": [
       "   id                            name\n",
       "0   0   leveillula lactucae-serriolae\n",
       "1   1             podosphaera aphanis\n",
       "2   2          lathyrus czeczottianus\n",
       "3   3  crocus biflorus subsp. caricus\n",
       "4   4          hordeum brevisubulatum\n",
       "5   5        vinca major subsp. major\n",
       "6   6            geranium psilostemon\n",
       "7   7                 cantharellaceae\n",
       "8   8                 liatris spicata\n",
       "9   9                     potato pulp"
      ]
     },
     "execution_count": 10,
     "metadata": {},
     "output_type": "execute_result"
    }
   ],
   "source": [
    "df_source2.head(10)"
   ]
  },
  {
   "cell_type": "markdown",
   "metadata": {},
   "source": [
    "#### For comparison purposes"
   ]
  },
  {
   "cell_type": "code",
   "execution_count": 11,
   "metadata": {},
   "outputs": [
    {
     "data": {
      "text/html": [
       "<div>\n",
       "<style scoped>\n",
       "    .dataframe tbody tr th:only-of-type {\n",
       "        vertical-align: middle;\n",
       "    }\n",
       "\n",
       "    .dataframe tbody tr th {\n",
       "        vertical-align: top;\n",
       "    }\n",
       "\n",
       "    .dataframe thead th {\n",
       "        text-align: right;\n",
       "    }\n",
       "</style>\n",
       "<table border=\"1\" class=\"dataframe\">\n",
       "  <thead>\n",
       "    <tr style=\"text-align: right;\">\n",
       "      <th></th>\n",
       "      <th>source_1</th>\n",
       "      <th>source_2</th>\n",
       "    </tr>\n",
       "  </thead>\n",
       "  <tbody>\n",
       "    <tr>\n",
       "      <th>0</th>\n",
       "      <td>Cereals, barley</td>\n",
       "      <td>barley</td>\n",
       "    </tr>\n",
       "    <tr>\n",
       "      <th>1</th>\n",
       "      <td>Other fresh or chilled potatoes</td>\n",
       "      <td>potatoes</td>\n",
       "    </tr>\n",
       "    <tr>\n",
       "      <th>2</th>\n",
       "      <td>Fruit, edible; cherries, fresh</td>\n",
       "      <td>cherries</td>\n",
       "    </tr>\n",
       "    <tr>\n",
       "      <th>3</th>\n",
       "      <td>Bran, sharps and other residues, of maize</td>\n",
       "      <td>maize bran</td>\n",
       "    </tr>\n",
       "    <tr>\n",
       "      <th>4</th>\n",
       "      <td>Cereals, millet</td>\n",
       "      <td>millets</td>\n",
       "    </tr>\n",
       "    <tr>\n",
       "      <th>5</th>\n",
       "      <td>Oil seeds; sesamum seeds, whether or not broken</td>\n",
       "      <td>sesame seed</td>\n",
       "    </tr>\n",
       "    <tr>\n",
       "      <th>6</th>\n",
       "      <td>Cigarettes containing tobacco</td>\n",
       "      <td>cigarettes</td>\n",
       "    </tr>\n",
       "    <tr>\n",
       "      <th>7</th>\n",
       "      <td>Tomato, fresh or chilled</td>\n",
       "      <td>tomatoes</td>\n",
       "    </tr>\n",
       "    <tr>\n",
       "      <th>8</th>\n",
       "      <td>Pulp, bagasse and other waste of sugar manufac...</td>\n",
       "      <td>beet pulp</td>\n",
       "    </tr>\n",
       "    <tr>\n",
       "      <th>9</th>\n",
       "      <td>Oil seeds; sunflower seeds, whether or not broken</td>\n",
       "      <td>sunflower seed</td>\n",
       "    </tr>\n",
       "  </tbody>\n",
       "</table>\n",
       "</div>"
      ],
      "text/plain": [
       "                                            source_1        source_2\n",
       "0                                    Cereals, barley          barley\n",
       "1                    Other fresh or chilled potatoes        potatoes\n",
       "2                     Fruit, edible; cherries, fresh        cherries\n",
       "3          Bran, sharps and other residues, of maize      maize bran\n",
       "4                                    Cereals, millet         millets\n",
       "5    Oil seeds; sesamum seeds, whether or not broken     sesame seed\n",
       "6                      Cigarettes containing tobacco      cigarettes\n",
       "7                           Tomato, fresh or chilled        tomatoes\n",
       "8  Pulp, bagasse and other waste of sugar manufac...       beet pulp\n",
       "9  Oil seeds; sunflower seeds, whether or not broken  sunflower seed"
      ]
     },
     "execution_count": 11,
     "metadata": {},
     "output_type": "execute_result"
    }
   ],
   "source": [
    "df_matched_data.head(10)"
   ]
  },
  {
   "cell_type": "code",
   "execution_count": 12,
   "metadata": {},
   "outputs": [
    {
     "data": {
      "text/html": [
       "<div>\n",
       "<style scoped>\n",
       "    .dataframe tbody tr th:only-of-type {\n",
       "        vertical-align: middle;\n",
       "    }\n",
       "\n",
       "    .dataframe tbody tr th {\n",
       "        vertical-align: top;\n",
       "    }\n",
       "\n",
       "    .dataframe thead th {\n",
       "        text-align: right;\n",
       "    }\n",
       "</style>\n",
       "<table border=\"1\" class=\"dataframe\">\n",
       "  <thead>\n",
       "    <tr style=\"text-align: right;\">\n",
       "      <th></th>\n",
       "      <th>source_1</th>\n",
       "      <th>source_2</th>\n",
       "    </tr>\n",
       "  </thead>\n",
       "  <tbody>\n",
       "    <tr>\n",
       "      <th>0</th>\n",
       "      <td>101</td>\n",
       "      <td>201</td>\n",
       "    </tr>\n",
       "    <tr>\n",
       "      <th>1</th>\n",
       "      <td>102</td>\n",
       "      <td>202</td>\n",
       "    </tr>\n",
       "    <tr>\n",
       "      <th>2</th>\n",
       "      <td>103</td>\n",
       "      <td>203</td>\n",
       "    </tr>\n",
       "    <tr>\n",
       "      <th>3</th>\n",
       "      <td>104</td>\n",
       "      <td>204</td>\n",
       "    </tr>\n",
       "    <tr>\n",
       "      <th>4</th>\n",
       "      <td>105</td>\n",
       "      <td>205</td>\n",
       "    </tr>\n",
       "    <tr>\n",
       "      <th>5</th>\n",
       "      <td>106</td>\n",
       "      <td>206</td>\n",
       "    </tr>\n",
       "    <tr>\n",
       "      <th>6</th>\n",
       "      <td>107</td>\n",
       "      <td>207</td>\n",
       "    </tr>\n",
       "    <tr>\n",
       "      <th>7</th>\n",
       "      <td>108</td>\n",
       "      <td>208</td>\n",
       "    </tr>\n",
       "    <tr>\n",
       "      <th>8</th>\n",
       "      <td>109</td>\n",
       "      <td>209</td>\n",
       "    </tr>\n",
       "    <tr>\n",
       "      <th>9</th>\n",
       "      <td>110</td>\n",
       "      <td>210</td>\n",
       "    </tr>\n",
       "    <tr>\n",
       "      <th>10</th>\n",
       "      <td>111</td>\n",
       "      <td>211</td>\n",
       "    </tr>\n",
       "    <tr>\n",
       "      <th>11</th>\n",
       "      <td>112</td>\n",
       "      <td>212</td>\n",
       "    </tr>\n",
       "    <tr>\n",
       "      <th>12</th>\n",
       "      <td>113</td>\n",
       "      <td>213</td>\n",
       "    </tr>\n",
       "    <tr>\n",
       "      <th>13</th>\n",
       "      <td>114</td>\n",
       "      <td>214</td>\n",
       "    </tr>\n",
       "    <tr>\n",
       "      <th>14</th>\n",
       "      <td>115</td>\n",
       "      <td>215</td>\n",
       "    </tr>\n",
       "  </tbody>\n",
       "</table>\n",
       "</div>"
      ],
      "text/plain": [
       "    source_1  source_2\n",
       "0        101       201\n",
       "1        102       202\n",
       "2        103       203\n",
       "3        104       204\n",
       "4        105       205\n",
       "5        106       206\n",
       "6        107       207\n",
       "7        108       208\n",
       "8        109       209\n",
       "9        110       210\n",
       "10       111       211\n",
       "11       112       212\n",
       "12       113       213\n",
       "13       114       214\n",
       "14       115       215"
      ]
     },
     "execution_count": 12,
     "metadata": {},
     "output_type": "execute_result"
    }
   ],
   "source": [
    "df_predicted_matches.head(15)"
   ]
  },
  {
   "cell_type": "code",
   "execution_count": 13,
   "metadata": {},
   "outputs": [
    {
     "data": {
      "text/plain": [
       "(15, 2)"
      ]
     },
     "execution_count": 13,
     "metadata": {},
     "output_type": "execute_result"
    }
   ],
   "source": [
    "df_predicted_matches.shape"
   ]
  },
  {
   "cell_type": "code",
   "execution_count": 14,
   "metadata": {},
   "outputs": [
    {
     "data": {
      "text/html": [
       "<div>\n",
       "<style scoped>\n",
       "    .dataframe tbody tr th:only-of-type {\n",
       "        vertical-align: middle;\n",
       "    }\n",
       "\n",
       "    .dataframe tbody tr th {\n",
       "        vertical-align: top;\n",
       "    }\n",
       "\n",
       "    .dataframe thead th {\n",
       "        text-align: right;\n",
       "    }\n",
       "</style>\n",
       "<table border=\"1\" class=\"dataframe\">\n",
       "  <thead>\n",
       "    <tr style=\"text-align: right;\">\n",
       "      <th></th>\n",
       "      <th>id</th>\n",
       "      <th>name</th>\n",
       "    </tr>\n",
       "  </thead>\n",
       "  <tbody>\n",
       "    <tr>\n",
       "      <th>0</th>\n",
       "      <td>0</td>\n",
       "      <td>Horses, asses, mules and hinnies; live, pure-b...</td>\n",
       "    </tr>\n",
       "    <tr>\n",
       "      <th>1</th>\n",
       "      <td>1</td>\n",
       "      <td>Horses; live, pure-bred breeding animals</td>\n",
       "    </tr>\n",
       "    <tr>\n",
       "      <th>2</th>\n",
       "      <td>2</td>\n",
       "      <td>Horses; live, other than pure-bred breeding an...</td>\n",
       "    </tr>\n",
       "    <tr>\n",
       "      <th>3</th>\n",
       "      <td>4</td>\n",
       "      <td>Horses, asses, mules and hinnies; live, other ...</td>\n",
       "    </tr>\n",
       "    <tr>\n",
       "      <th>4</th>\n",
       "      <td>5</td>\n",
       "      <td>Bovine animals; live, pure-bred breeding animals</td>\n",
       "    </tr>\n",
       "  </tbody>\n",
       "</table>\n",
       "</div>"
      ],
      "text/plain": [
       "   id                                               name\n",
       "0   0  Horses, asses, mules and hinnies; live, pure-b...\n",
       "1   1           Horses; live, pure-bred breeding animals\n",
       "2   2  Horses; live, other than pure-bred breeding an...\n",
       "3   4  Horses, asses, mules and hinnies; live, other ...\n",
       "4   5   Bovine animals; live, pure-bred breeding animals"
      ]
     },
     "execution_count": 14,
     "metadata": {},
     "output_type": "execute_result"
    }
   ],
   "source": [
    "df_source1.head()"
   ]
  },
  {
   "cell_type": "code",
   "execution_count": 15,
   "metadata": {},
   "outputs": [
    {
     "data": {
      "text/html": [
       "<div>\n",
       "<style scoped>\n",
       "    .dataframe tbody tr th:only-of-type {\n",
       "        vertical-align: middle;\n",
       "    }\n",
       "\n",
       "    .dataframe tbody tr th {\n",
       "        vertical-align: top;\n",
       "    }\n",
       "\n",
       "    .dataframe thead th {\n",
       "        text-align: right;\n",
       "    }\n",
       "</style>\n",
       "<table border=\"1\" class=\"dataframe\">\n",
       "  <thead>\n",
       "    <tr style=\"text-align: right;\">\n",
       "      <th></th>\n",
       "      <th>id</th>\n",
       "      <th>name</th>\n",
       "    </tr>\n",
       "  </thead>\n",
       "  <tbody>\n",
       "    <tr>\n",
       "      <th>0</th>\n",
       "      <td>0</td>\n",
       "      <td>leveillula lactucae-serriolae</td>\n",
       "    </tr>\n",
       "    <tr>\n",
       "      <th>1</th>\n",
       "      <td>1</td>\n",
       "      <td>podosphaera aphanis</td>\n",
       "    </tr>\n",
       "    <tr>\n",
       "      <th>2</th>\n",
       "      <td>2</td>\n",
       "      <td>lathyrus czeczottianus</td>\n",
       "    </tr>\n",
       "    <tr>\n",
       "      <th>3</th>\n",
       "      <td>3</td>\n",
       "      <td>crocus biflorus subsp. caricus</td>\n",
       "    </tr>\n",
       "    <tr>\n",
       "      <th>4</th>\n",
       "      <td>4</td>\n",
       "      <td>hordeum brevisubulatum</td>\n",
       "    </tr>\n",
       "  </tbody>\n",
       "</table>\n",
       "</div>"
      ],
      "text/plain": [
       "   id                            name\n",
       "0   0   leveillula lactucae-serriolae\n",
       "1   1             podosphaera aphanis\n",
       "2   2          lathyrus czeczottianus\n",
       "3   3  crocus biflorus subsp. caricus\n",
       "4   4          hordeum brevisubulatum"
      ]
     },
     "execution_count": 15,
     "metadata": {},
     "output_type": "execute_result"
    }
   ],
   "source": [
    "df_source2.head()"
   ]
  },
  {
   "cell_type": "code",
   "execution_count": 16,
   "metadata": {},
   "outputs": [],
   "source": [
    "### merge the datasets to form columns for comparison\n",
    "df_merged = df_source1.merge(df_source2, on=[\"id\"], how=\"right\")"
   ]
  },
  {
   "cell_type": "code",
   "execution_count": 17,
   "metadata": {},
   "outputs": [
    {
     "data": {
      "text/html": [
       "<div>\n",
       "<style scoped>\n",
       "    .dataframe tbody tr th:only-of-type {\n",
       "        vertical-align: middle;\n",
       "    }\n",
       "\n",
       "    .dataframe tbody tr th {\n",
       "        vertical-align: top;\n",
       "    }\n",
       "\n",
       "    .dataframe thead th {\n",
       "        text-align: right;\n",
       "    }\n",
       "</style>\n",
       "<table border=\"1\" class=\"dataframe\">\n",
       "  <thead>\n",
       "    <tr style=\"text-align: right;\">\n",
       "      <th></th>\n",
       "      <th>id</th>\n",
       "      <th>name_x</th>\n",
       "      <th>name_y</th>\n",
       "    </tr>\n",
       "  </thead>\n",
       "  <tbody>\n",
       "    <tr>\n",
       "      <th>0</th>\n",
       "      <td>0</td>\n",
       "      <td>Horses, asses, mules and hinnies; live, pure-b...</td>\n",
       "      <td>leveillula lactucae-serriolae</td>\n",
       "    </tr>\n",
       "    <tr>\n",
       "      <th>1</th>\n",
       "      <td>0</td>\n",
       "      <td>Wood in the rough, even peeled, or roughly squ...</td>\n",
       "      <td>leveillula lactucae-serriolae</td>\n",
       "    </tr>\n",
       "    <tr>\n",
       "      <th>2</th>\n",
       "      <td>1</td>\n",
       "      <td>Horses; live, pure-bred breeding animals</td>\n",
       "      <td>podosphaera aphanis</td>\n",
       "    </tr>\n",
       "    <tr>\n",
       "      <th>3</th>\n",
       "      <td>1</td>\n",
       "      <td>Wood in the rough, even peeled, or roughly squ...</td>\n",
       "      <td>podosphaera aphanis</td>\n",
       "    </tr>\n",
       "    <tr>\n",
       "      <th>4</th>\n",
       "      <td>2</td>\n",
       "      <td>Horses; live, other than pure-bred breeding an...</td>\n",
       "      <td>lathyrus czeczottianus</td>\n",
       "    </tr>\n",
       "  </tbody>\n",
       "</table>\n",
       "</div>"
      ],
      "text/plain": [
       "   id                                             name_x  \\\n",
       "0   0  Horses, asses, mules and hinnies; live, pure-b...   \n",
       "1   0  Wood in the rough, even peeled, or roughly squ...   \n",
       "2   1           Horses; live, pure-bred breeding animals   \n",
       "3   1  Wood in the rough, even peeled, or roughly squ...   \n",
       "4   2  Horses; live, other than pure-bred breeding an...   \n",
       "\n",
       "                          name_y  \n",
       "0  leveillula lactucae-serriolae  \n",
       "1  leveillula lactucae-serriolae  \n",
       "2            podosphaera aphanis  \n",
       "3            podosphaera aphanis  \n",
       "4         lathyrus czeczottianus  "
      ]
     },
     "execution_count": 17,
     "metadata": {},
     "output_type": "execute_result"
    }
   ],
   "source": [
    "#### Display the datasets\n",
    "df_merged.head()"
   ]
  },
  {
   "cell_type": "markdown",
   "metadata": {},
   "source": []
  },
  {
   "cell_type": "code",
   "execution_count": 18,
   "metadata": {},
   "outputs": [
    {
     "name": "stdout",
     "output_type": "stream",
     "text": [
      "(49884,)\n",
      "(49884,)\n"
     ]
    }
   ],
   "source": [
    "### Shape of the marged dataset\n",
    "print(df_merged.name_x.shape)\n",
    "print(df_merged.name_y.shape)"
   ]
  },
  {
   "cell_type": "code",
   "execution_count": 19,
   "metadata": {},
   "outputs": [
    {
     "data": {
      "text/plain": [
       "id            0\n",
       "name_x    36730\n",
       "name_y        0\n",
       "dtype: int64"
      ]
     },
     "execution_count": 19,
     "metadata": {},
     "output_type": "execute_result"
    }
   ],
   "source": [
    "### Check for total nulls in the marged datased\n",
    "\n",
    "df_merged.isna().sum()"
   ]
  },
  {
   "cell_type": "code",
   "execution_count": 20,
   "metadata": {},
   "outputs": [],
   "source": [
    "### Drop nulls\n",
    "df_merged = df_merged.dropna()"
   ]
  },
  {
   "cell_type": "code",
   "execution_count": 21,
   "metadata": {},
   "outputs": [
    {
     "data": {
      "text/plain": [
       "id        0\n",
       "name_x    0\n",
       "name_y    0\n",
       "dtype: int64"
      ]
     },
     "execution_count": 21,
     "metadata": {},
     "output_type": "execute_result"
    }
   ],
   "source": [
    "### Check if there's nulls in new datdrame\n",
    "df_merged.isna().sum()"
   ]
  },
  {
   "cell_type": "code",
   "execution_count": 22,
   "metadata": {},
   "outputs": [
    {
     "name": "stdout",
     "output_type": "stream",
     "text": [
      "(13154,)\n",
      "(13154,)\n"
     ]
    }
   ],
   "source": [
    "### Check the shape of the merged datframe with no nulls\n",
    "print(df_merged.name_x.shape)\n",
    "print(df_merged.name_y.shape)"
   ]
  },
  {
   "cell_type": "code",
   "execution_count": 23,
   "metadata": {},
   "outputs": [
    {
     "name": "stdout",
     "output_type": "stream",
     "text": [
      "Horses, asses, mules and hinnies; live, pure-bred breeding animals\n"
     ]
    }
   ],
   "source": [
    "#### Check the values of index 0 of columns name_x before dropping nulls\n",
    "sent = df_merged.name_x[0]\n",
    "print(sent)"
   ]
  },
  {
   "cell_type": "code",
   "execution_count": 24,
   "metadata": {},
   "outputs": [
    {
     "data": {
      "text/plain": [
       "'vinca major subsp. major'"
      ]
     },
     "execution_count": 24,
     "metadata": {},
     "output_type": "execute_result"
    }
   ],
   "source": [
    "#### Check the values of index 10 of columns name_y before dropping nulls\n",
    "sent2 = df_merged.name_y[10]\n",
    "sent2"
   ]
  },
  {
   "cell_type": "code",
   "execution_count": 25,
   "metadata": {},
   "outputs": [
    {
     "data": {
      "text/html": [
       "<div>\n",
       "<style scoped>\n",
       "    .dataframe tbody tr th:only-of-type {\n",
       "        vertical-align: middle;\n",
       "    }\n",
       "\n",
       "    .dataframe tbody tr th {\n",
       "        vertical-align: top;\n",
       "    }\n",
       "\n",
       "    .dataframe thead th {\n",
       "        text-align: right;\n",
       "    }\n",
       "</style>\n",
       "<table border=\"1\" class=\"dataframe\">\n",
       "  <thead>\n",
       "    <tr style=\"text-align: right;\">\n",
       "      <th></th>\n",
       "      <th>id</th>\n",
       "      <th>name_x</th>\n",
       "      <th>name_y</th>\n",
       "    </tr>\n",
       "  </thead>\n",
       "  <tbody>\n",
       "    <tr>\n",
       "      <th>0</th>\n",
       "      <td>0</td>\n",
       "      <td>Horses, asses, mules and hinnies; live, pure-b...</td>\n",
       "      <td>leveillula lactucae-serriolae</td>\n",
       "    </tr>\n",
       "    <tr>\n",
       "      <th>1</th>\n",
       "      <td>0</td>\n",
       "      <td>Wood in the rough, even peeled, or roughly squ...</td>\n",
       "      <td>leveillula lactucae-serriolae</td>\n",
       "    </tr>\n",
       "    <tr>\n",
       "      <th>2</th>\n",
       "      <td>1</td>\n",
       "      <td>Horses; live, pure-bred breeding animals</td>\n",
       "      <td>podosphaera aphanis</td>\n",
       "    </tr>\n",
       "    <tr>\n",
       "      <th>3</th>\n",
       "      <td>1</td>\n",
       "      <td>Wood in the rough, even peeled, or roughly squ...</td>\n",
       "      <td>podosphaera aphanis</td>\n",
       "    </tr>\n",
       "    <tr>\n",
       "      <th>4</th>\n",
       "      <td>2</td>\n",
       "      <td>Horses; live, other than pure-bred breeding an...</td>\n",
       "      <td>lathyrus czeczottianus</td>\n",
       "    </tr>\n",
       "    <tr>\n",
       "      <th>5</th>\n",
       "      <td>2</td>\n",
       "      <td>Wood in the rough, even peeled, or roughly squ...</td>\n",
       "      <td>lathyrus czeczottianus</td>\n",
       "    </tr>\n",
       "    <tr>\n",
       "      <th>6</th>\n",
       "      <td>3</td>\n",
       "      <td>Wood in the rough, even peeled, or roughly squ...</td>\n",
       "      <td>crocus biflorus subsp. caricus</td>\n",
       "    </tr>\n",
       "    <tr>\n",
       "      <th>7</th>\n",
       "      <td>4</td>\n",
       "      <td>Horses, asses, mules and hinnies; live, other ...</td>\n",
       "      <td>hordeum brevisubulatum</td>\n",
       "    </tr>\n",
       "    <tr>\n",
       "      <th>8</th>\n",
       "      <td>4</td>\n",
       "      <td>Wood in the rough, even peeled, or roughly squ...</td>\n",
       "      <td>hordeum brevisubulatum</td>\n",
       "    </tr>\n",
       "    <tr>\n",
       "      <th>9</th>\n",
       "      <td>5</td>\n",
       "      <td>Bovine animals; live, pure-bred breeding animals</td>\n",
       "      <td>vinca major subsp. major</td>\n",
       "    </tr>\n",
       "    <tr>\n",
       "      <th>10</th>\n",
       "      <td>5</td>\n",
       "      <td>Wood in the rough of (Abies spp.) and (Picea s...</td>\n",
       "      <td>vinca major subsp. major</td>\n",
       "    </tr>\n",
       "    <tr>\n",
       "      <th>11</th>\n",
       "      <td>6</td>\n",
       "      <td>Cattle; live, pure-bred breeding animals</td>\n",
       "      <td>geranium psilostemon</td>\n",
       "    </tr>\n",
       "    <tr>\n",
       "      <th>12</th>\n",
       "      <td>6</td>\n",
       "      <td>Other wood in the rough, whether peeled, or ro...</td>\n",
       "      <td>geranium psilostemon</td>\n",
       "    </tr>\n",
       "    <tr>\n",
       "      <th>13</th>\n",
       "      <td>7</td>\n",
       "      <td>Cattle; live, other than pure-bred breeding an...</td>\n",
       "      <td>cantharellaceae</td>\n",
       "    </tr>\n",
       "    <tr>\n",
       "      <th>14</th>\n",
       "      <td>7</td>\n",
       "      <td>Other wood in the rough, whether peeled, or ro...</td>\n",
       "      <td>cantharellaceae</td>\n",
       "    </tr>\n",
       "  </tbody>\n",
       "</table>\n",
       "</div>"
      ],
      "text/plain": [
       "    id                                             name_x  \\\n",
       "0    0  Horses, asses, mules and hinnies; live, pure-b...   \n",
       "1    0  Wood in the rough, even peeled, or roughly squ...   \n",
       "2    1           Horses; live, pure-bred breeding animals   \n",
       "3    1  Wood in the rough, even peeled, or roughly squ...   \n",
       "4    2  Horses; live, other than pure-bred breeding an...   \n",
       "5    2  Wood in the rough, even peeled, or roughly squ...   \n",
       "6    3  Wood in the rough, even peeled, or roughly squ...   \n",
       "7    4  Horses, asses, mules and hinnies; live, other ...   \n",
       "8    4  Wood in the rough, even peeled, or roughly squ...   \n",
       "9    5   Bovine animals; live, pure-bred breeding animals   \n",
       "10   5  Wood in the rough of (Abies spp.) and (Picea s...   \n",
       "11   6           Cattle; live, pure-bred breeding animals   \n",
       "12   6  Other wood in the rough, whether peeled, or ro...   \n",
       "13   7  Cattle; live, other than pure-bred breeding an...   \n",
       "14   7  Other wood in the rough, whether peeled, or ro...   \n",
       "\n",
       "                            name_y  \n",
       "0    leveillula lactucae-serriolae  \n",
       "1    leveillula lactucae-serriolae  \n",
       "2              podosphaera aphanis  \n",
       "3              podosphaera aphanis  \n",
       "4           lathyrus czeczottianus  \n",
       "5           lathyrus czeczottianus  \n",
       "6   crocus biflorus subsp. caricus  \n",
       "7           hordeum brevisubulatum  \n",
       "8           hordeum brevisubulatum  \n",
       "9         vinca major subsp. major  \n",
       "10        vinca major subsp. major  \n",
       "11            geranium psilostemon  \n",
       "12            geranium psilostemon  \n",
       "13                 cantharellaceae  \n",
       "14                 cantharellaceae  "
      ]
     },
     "execution_count": 25,
     "metadata": {},
     "output_type": "execute_result"
    }
   ],
   "source": [
    "### Display the dataset for checking\n",
    "df_merged.head(15)"
   ]
  },
  {
   "cell_type": "code",
   "execution_count": 26,
   "metadata": {},
   "outputs": [],
   "source": [
    "### Define x and y as  empty nd  loop to loop through x and y and append to them\n",
    "x = []\n",
    "y = []\n",
    "for x1 in df_merged[\"name_x\"]:\n",
    "  x.append(x1)\n",
    "\n",
    "for y1 in df_merged[\"name_y\"]:\n",
    "  y.append(y1)"
   ]
  },
  {
   "cell_type": "code",
   "execution_count": 27,
   "metadata": {},
   "outputs": [],
   "source": [
    "#### import TfidVectorizer to change words into numbers since deals with numbers and linear kernel cosine similirities to colect similar numbers and their indexes \n",
    "from sklearn.feature_extraction.text import TfidfVectorizer\n",
    "vectorizer = TfidfVectorizer()\n",
    "tfidf_matrix = vectorizer.fit_transform(df_merged.name_x)\n",
    "from sklearn.metrics.pairwise import linear_kernel\n",
    "cosine_sim = linear_kernel(tfidf_matrix, tfidf_matrix)"
   ]
  },
  {
   "cell_type": "code",
   "execution_count": 28,
   "metadata": {},
   "outputs": [],
   "source": [
    "### Define x and y as input data and their vlues\n",
    "### For the first 100 \n",
    "y = y[:100]\n",
    "x = x[:100]"
   ]
  },
  {
   "cell_type": "code",
   "execution_count": 29,
   "metadata": {},
   "outputs": [
    {
     "name": "stderr",
     "output_type": "stream",
     "text": [
      "Building prefix dict from the default dictionary ...\n",
      "Loading model from cache /tmp/jieba.cache\n",
      "Loading model cost 1.661 seconds.\n",
      "Prefix dict has been built successfully.\n"
     ]
    }
   ],
   "source": [
    "simis = [] ### empty list for where similar words will be appended to\n",
    "indexess = [] ### empty list for appending indexes for similar words\n",
    "\n",
    "def similar(keyword): ### function for similar keywords\n",
    "    from gensim import corpora, models, similarities ### import gensim for creating models for similarities\n",
    "    import jieba\n",
    "    texts = x\n",
    "    texts = [jieba.lcut(text) for text in texts] ### check the text of words\n",
    "    dictionary = corpora.Dictionary(texts) ### create dictionary of words\n",
    "    feature_cnt = len(dictionary.token2id)\n",
    "    corpus = [dictionary.doc2bow(text) for text in texts]\n",
    "    #### change the text of words into numbers\n",
    "    tfidf = models.TfidfModel(corpus) \n",
    "    kw_vector = dictionary.doc2bow(jieba.lcut(keyword))\n",
    "    ### create the index of similar words to append into the empty list\n",
    "    index = similarities.SparseMatrixSimilarity(tfidf[corpus], num_features = feature_cnt)\n",
    "    sim = index[tfidf[kw_vector]]\n",
    "    \n",
    "### loop for checking similar keywords with similarities and indexes nd create a new list\n",
    "    similarities = []\n",
    "    my_list = []\n",
    "    for i in range(len(sim)):\n",
    "        similarities.append(sim[i])\n",
    "        my_list.append((i+1, sim[i]))\n",
    "\n",
    "    max_value = None\n",
    "\n",
    "    for num in similarities:\n",
    "        if (max_value is None or num > max_value):\n",
    "            max_value = num\n",
    "### loop through a new list to compare their similar index max value and append them\n",
    "    for value in my_list:\n",
    "        if max_value == value[1]:\n",
    "            global simi, indexes\n",
    "            indexes = value[0]\n",
    "            indexess.append(indexes)\n",
    "            indexk = y.index(keyword)\n",
    "            simis.append(indexk)\n",
    "           \n",
    "### loop for keyword in y column for similar keyword in x column\n",
    "for word in y:\n",
    "    keyword = word\n",
    "    similar(keyword)\n",
    "\n"
   ]
  },
  {
   "cell_type": "code",
   "execution_count": 30,
   "metadata": {},
   "outputs": [
    {
     "name": "stdout",
     "output_type": "stream",
     "text": [
      "991\n"
     ]
    }
   ],
   "source": [
    "#### Print indexes\n",
    "print(len(indexess))"
   ]
  },
  {
   "cell_type": "code",
   "execution_count": 31,
   "metadata": {},
   "outputs": [
    {
     "name": "stdout",
     "output_type": "stream",
     "text": [
      "991\n"
     ]
    }
   ],
   "source": [
    "### print the lengths of the similar words\n",
    "print(len(simis))"
   ]
  },
  {
   "cell_type": "code",
   "execution_count": 32,
   "metadata": {},
   "outputs": [],
   "source": [
    "### display the indexes and their similarities as a dataframe\n",
    "df = pd.DataFrame({'source_1': indexess,\n",
    "                   'source_2': simis,\n",
    "                  })"
   ]
  },
  {
   "cell_type": "code",
   "execution_count": 34,
   "metadata": {},
   "outputs": [
    {
     "name": "stdout",
     "output_type": "stream",
     "text": [
      "    source_1  source_2\n",
      "0          3         0\n",
      "1          3         0\n",
      "2         39         2\n",
      "3         39         2\n",
      "4         39         4\n",
      "5         39         4\n",
      "6         84         6\n",
      "7         39         7\n",
      "8         39         7\n",
      "9         84         9\n",
      "10        84         9\n",
      "11        39        11\n",
      "12        39        11\n",
      "13         1        13\n",
      "14         2        13\n",
      "15         3        13\n",
      "16         4        13\n",
      "17         5        13\n",
      "18         6        13\n",
      "19         7        13\n",
      "20         8        13\n",
      "21         9        13\n",
      "22        10        13\n",
      "23        11        13\n",
      "24        12        13\n",
      "25        13        13\n",
      "26        14        13\n",
      "27        15        13\n",
      "28        16        13\n",
      "29        17        13\n",
      "30        18        13\n",
      "31        19        13\n",
      "32        20        13\n",
      "33        21        13\n",
      "34        22        13\n",
      "35        23        13\n",
      "36        24        13\n",
      "37        25        13\n",
      "38        26        13\n",
      "39        27        13\n",
      "40        28        13\n",
      "41        29        13\n",
      "42        30        13\n",
      "43        31        13\n",
      "44        32        13\n",
      "45        33        13\n",
      "46        34        13\n",
      "47        35        13\n",
      "48        36        13\n",
      "49        37        13\n"
     ]
    }
   ],
   "source": [
    "### Display the dtaframe and print output into  csv file\n",
    "print(df.head(50))\n",
    "df.to_csv('rovinewnjala99@gmail.com.csv')"
   ]
  },
  {
   "cell_type": "code",
   "execution_count": null,
   "metadata": {},
   "outputs": [],
   "source": []
  }
 ],
 "metadata": {
  "interpreter": {
   "hash": "916dbcbb3f70747c44a77c7bcd40155683ae19c65e1c03b4aa3499c5328201f1"
  },
  "kernelspec": {
   "display_name": "Python 3 (ipykernel)",
   "language": "python",
   "name": "python3"
  },
  "language_info": {
   "codemirror_mode": {
    "name": "ipython",
    "version": 3
   },
   "file_extension": ".py",
   "mimetype": "text/x-python",
   "name": "python",
   "nbconvert_exporter": "python",
   "pygments_lexer": "ipython3",
   "version": "3.9.7"
  }
 },
 "nbformat": 4,
 "nbformat_minor": 2
}
